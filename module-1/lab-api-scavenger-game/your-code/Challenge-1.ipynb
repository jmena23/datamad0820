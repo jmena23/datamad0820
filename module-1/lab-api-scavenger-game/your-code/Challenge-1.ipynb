{
 "cells": [
  {
   "cell_type": "code",
   "execution_count": null,
   "metadata": {},
   "outputs": [],
   "source": [
    "import json\n",
    "import requests\n",
    "import os \n",
    "from dotenv import load_dotenv\n",
    "load_dotenv()\n",
    "import re\n",
    "import base64"
   ]
  },
  {
   "cell_type": "markdown",
   "metadata": {},
   "source": [
    "## Challenge 1"
   ]
  },
  {
   "cell_type": "code",
   "execution_count": null,
   "metadata": {},
   "outputs": [],
   "source": [
    "def get_gh_v3(endpoint, apiKey=os.getenv(\"GITHUB_APIKEY\"), query_params={}): \n",
    "    \"\"\"\n",
    "    Get data from github using query parameters and passing a custom apikey header\n",
    "    \"\"\"\n",
    "    \n",
    "    # Compose the endpoint url\n",
    "    baseUrl = \"https://api.github.com\"\n",
    "    url = f\"{baseUrl}{endpoint}\"\n",
    "\n",
    "    # Create the headers\n",
    "    headers = {\n",
    "        \"Authorization\": f\"Bearer {apiKey}\"\n",
    "    }\n",
    "    # make the request and get the response using HTTP GET verb \n",
    "    res = requests.get(url, params=query_params, headers=headers)\n",
    "    print(f\"Request data to {res.url} status_code:{res.status_code}\")\n",
    "    \n",
    "    data = res.json()\n",
    "    return data"
   ]
  },
  {
   "cell_type": "code",
   "execution_count": null,
   "metadata": {},
   "outputs": [],
   "source": [
    "data = get_gh_v3('/repos/ironhack-datalabs/datamad0820/forks',query_params=({\"per_page\":100}))\n",
    "forks = [d[\"forks_url\"] for d in data]\n",
    "print(forks)"
   ]
  },
  {
   "cell_type": "code",
   "execution_count": null,
   "metadata": {},
   "outputs": [],
   "source": [
    "leng = [d[\"language\"] for d in data]\n",
    "leng = list(set(leng))\n",
    "print(leng)"
   ]
  },
  {
   "cell_type": "markdown",
   "metadata": {},
   "source": [
    "## Challenge 2"
   ]
  },
  {
   "cell_type": "code",
   "execution_count": null,
   "metadata": {},
   "outputs": [],
   "source": [
    "data = get_gh_v3('/repos/ironhack-datalabs/datamad0820/commits',query_params=({\"per_page\":100}))"
   ]
  },
  {
   "cell_type": "code",
   "execution_count": null,
   "metadata": {},
   "outputs": [],
   "source": [
    "print(len(data))"
   ]
  },
  {
   "cell_type": "markdown",
   "metadata": {},
   "source": [
    "## Challenge 3"
   ]
  },
  {
   "cell_type": "code",
   "execution_count": null,
   "metadata": {},
   "outputs": [],
   "source": [
    "data = get_gh_v3('/repos/ironhack-datalabs/scavenger/contents',query_params=({\"per_page\":100}))"
   ]
  },
  {
   "cell_type": "code",
   "execution_count": null,
   "metadata": {},
   "outputs": [],
   "source": [
    "lista = []\n",
    "for i in range(len(data)):\n",
    "    lista.append(data[i]['path'])\n",
    "lista = lista[1:]\n",
    "print(lista)"
   ]
  },
  {
   "cell_type": "code",
   "execution_count": null,
   "metadata": {},
   "outputs": [],
   "source": [
    "lista2 = []\n",
    "for i in lista:\n",
    "    lista2.append(f'/repos/ironhack-datalabs/scavenger/contents/{i}')\n",
    "\n",
    "lista3 = []\n",
    "for j in lista2:\n",
    "    x = get_gh_v3(j,query_params=({\"per_page\":100}))\n",
    "    for k in range(len(x)):\n",
    "        lista3.append(x[k]['name'])\n",
    "    \n",
    "#print(lista3)\n",
    "\n",
    "lista4 = []    \n",
    "for j in lista3:\n",
    "    if 'scavengerhunt' in j:\n",
    "        lista4.append(j)"
   ]
  },
  {
   "cell_type": "code",
   "execution_count": null,
   "metadata": {},
   "outputs": [],
   "source": [
    "len(lista4)"
   ]
  },
  {
   "cell_type": "code",
   "execution_count": null,
   "metadata": {},
   "outputs": [],
   "source": [
    "sorted(lista4)"
   ]
  },
  {
   "cell_type": "code",
   "execution_count": null,
   "metadata": {},
   "outputs": [],
   "source": [
    "lista2 = []\n",
    "for i in lista:\n",
    "    lista2.append(f'/repos/ironhack-datalabs/scavenger/contents/{i}')\n",
    "\n",
    "lista3 = []\n",
    "for j in lista2:\n",
    "    x = get_gh_v3(j,query_params=({\"per_page\":100}))\n",
    "    for k in range(len(x)):\n",
    "        lista3.append(x[k]['path'])\n",
    "\n",
    "lista41 = []    \n",
    "for j in lista3:\n",
    "    if 'scavengerhunt' in j:\n",
    "        lista41.append(j)\n",
    "        \n",
    "lista100 = sorted(lista41, key= lambda x : x[9:11])\n",
    "print(lista100)        \n",
    "\n",
    "lista5 = []\n",
    "for i in lista100:\n",
    "    lista5.append(f'/repos/ironhack-datalabs/scavenger/contents/{i}')\n",
    "\n",
    "lista6 = []\n",
    "for j in lista5:\n",
    "    x = get_gh_v3(j,query_params=({\"per_page\":100}))\n",
    "    lista6.append(x['content'])\n",
    "print(lista6)"
   ]
  },
  {
   "cell_type": "code",
   "execution_count": null,
   "metadata": {},
   "outputs": [],
   "source": [
    "joke = [base64.b64decode(i) for i in lista6]\n",
    "str(joke)"
   ]
  },
  {
   "cell_type": "code",
   "execution_count": null,
   "metadata": {},
   "outputs": [],
   "source": [
    "broma = [i.decode('UTF-8') for i in joke]\n",
    "print(broma)"
   ]
  },
  {
   "cell_type": "code",
   "execution_count": null,
   "metadata": {},
   "outputs": [],
   "source": [
    "resultado = []\n",
    "for i in broma:\n",
    "    resultado.append(str(i[:-1]))\n",
    "    \n",
    "resultado = ' '.join(resultado)     \n",
    "print(resultado)"
   ]
  },
  {
   "cell_type": "code",
   "execution_count": null,
   "metadata": {},
   "outputs": [],
   "source": []
  }
 ],
 "metadata": {
  "kernelspec": {
   "display_name": "Python 3",
   "language": "python",
   "name": "python3"
  },
  "language_info": {
   "codemirror_mode": {
    "name": "ipython",
    "version": 3
   },
   "file_extension": ".py",
   "mimetype": "text/x-python",
   "name": "python",
   "nbconvert_exporter": "python",
   "pygments_lexer": "ipython3",
   "version": "3.7.6"
  }
 },
 "nbformat": 4,
 "nbformat_minor": 4
}

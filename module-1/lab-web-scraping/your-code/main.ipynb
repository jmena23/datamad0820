{
 "cells": [
  {
   "cell_type": "markdown",
   "metadata": {},
   "source": [
    "# Web Scraping Lab\n",
    "\n",
    "You will find in this notebook some scrapy exercises to practise your scraping skills.\n",
    "\n",
    "**Tips:**\n",
    "\n",
    "- Check the response status code for each request to ensure you have obtained the intended contennt.\n",
    "- Print the response text in each request to understand the kind of info you are getting and its format.\n",
    "- Check for patterns in the response text to extract the data/info requested in each question.\n",
    "- Visit each url and take a look at its source through Chrome DevTools. You'll need to identify the html tags, special class names etc. used for the html content you are expected to extract."
   ]
  },
  {
   "cell_type": "markdown",
   "metadata": {},
   "source": [
    "- [Requests library](http://docs.python-requests.org/en/master/#the-user-guide) documentation \n",
    "- [Beautiful Soup Doc](https://www.crummy.com/software/BeautifulSoup/bs4/doc/)\n",
    "- [Urllib](https://docs.python.org/3/library/urllib.html#module-urllib)\n",
    "- [re lib](https://docs.python.org/3/library/re.html)\n",
    "- [lxml lib](https://lxml.de/)\n",
    "- [Scrapy](https://scrapy.org/)\n",
    "- [List of HTTP status codes](https://en.wikipedia.org/wiki/List_of_HTTP_status_codes)\n",
    "- [HTML basics](http://www.simplehtmlguide.com/cheatsheet.php)\n",
    "- [CSS basics](https://www.cssbasics.com/#page_start)"
   ]
  },
  {
   "cell_type": "markdown",
   "metadata": {},
   "source": [
    "#### Below are the libraries and modules you may need. `requests`,  `BeautifulSoup` and `pandas` are imported for you. If you prefer to use additional libraries feel free to uncomment them."
   ]
  },
  {
   "cell_type": "code",
   "execution_count": 85,
   "metadata": {},
   "outputs": [],
   "source": [
    "import requests\n",
    "from bs4 import BeautifulSoup\n",
    "import pandas as pd\n",
    "# from pprint import pprint\n",
    "# from lxml import html\n",
    "# from lxml.html import fromstring\n",
    "# import urllib.request\n",
    "# from urllib.request import urlopen\n",
    "# import random\n",
    "import re\n",
    "# import scrapy"
   ]
  },
  {
   "cell_type": "markdown",
   "metadata": {},
   "source": [
    "#### Download, parse (using BeautifulSoup), and print the content from the Trending Developers page from GitHub:"
   ]
  },
  {
   "cell_type": "code",
   "execution_count": 132,
   "metadata": {},
   "outputs": [],
   "source": [
    "# This is the url you will scrape in this exercise\n",
    "url = 'https://github.com/trending/developers'"
   ]
  },
  {
   "cell_type": "code",
   "execution_count": 136,
   "metadata": {},
   "outputs": [],
   "source": [
    "#your code\n",
    "response = requests.get(url)\n",
    "\n",
    "soup = BeautifulSoup(response.text, \"html.parser\")\n",
    "#soup"
   ]
  },
  {
   "cell_type": "markdown",
   "metadata": {},
   "source": [
    "#### Display the names of the trending developers retrieved in the previous step.\n",
    "\n",
    "Your output should be a Python list of developer names. Each name should not contain any html tag.\n",
    "\n",
    "**Instructions:**\n",
    "\n",
    "1. Find out the html tag and class names used for the developer names. You can achieve this using Chrome DevTools.\n",
    "\n",
    "1. Use BeautifulSoup to extract all the html elements that contain the developer names.\n",
    "\n",
    "1. Use string manipulation techniques to replace whitespaces and linebreaks (i.e. `\\n`) in the *text* of each html element. Use a list to store the clean names.\n",
    "\n",
    "1. Print the list of names.\n",
    "\n",
    "Your output should look like below:\n",
    "\n",
    "```\n",
    "['trimstray (@trimstray)',\n",
    " 'joewalnes (JoeWalnes)',\n",
    " 'charlax (Charles-AxelDein)',\n",
    " 'ForrestKnight (ForrestKnight)',\n",
    " 'revery-ui (revery-ui)',\n",
    " 'alibaba (Alibaba)',\n",
    " 'Microsoft (Microsoft)',\n",
    " 'github (GitHub)',\n",
    " 'facebook (Facebook)',\n",
    " 'boazsegev (Bo)',\n",
    " 'google (Google)',\n",
    " 'cloudfetch',\n",
    " 'sindresorhus (SindreSorhus)',\n",
    " 'tensorflow',\n",
    " 'apache (TheApacheSoftwareFoundation)',\n",
    " 'DevonCrawford (DevonCrawford)',\n",
    " 'ARMmbed (ArmMbed)',\n",
    " 'vuejs (vuejs)',\n",
    " 'fastai (fast.ai)',\n",
    " 'QiShaoXuan (Qi)',\n",
    " 'joelparkerhenderson (JoelParkerHenderson)',\n",
    " 'torvalds (LinusTorvalds)',\n",
    " 'CyC2018',\n",
    " 'komeiji-satori (神楽坂覚々)',\n",
    " 'script-8']\n",
    " ```"
   ]
  },
  {
   "cell_type": "code",
   "execution_count": 135,
   "metadata": {},
   "outputs": [
    {
     "data": {
      "text/plain": [
       "['William Candillon (wcandillon)',\n",
       " 'Han Xiao (hanxiao)',\n",
       " 'Arvid Norberg (arvidn)',\n",
       " 'Franck Nijhof (frenck)',\n",
       " 'Javier Suárez (jsuarezruiz)',\n",
       " 'Manfred Touron (moul)',\n",
       " 'Rob Norris (tpolecat)',\n",
       " 'Chocobozzz (Chocobozzz)',\n",
       " 'Ruslan Konviser (evereq)',\n",
       " 'Eric Niebler (ericniebler)',\n",
       " 'MinJae Kwon (mingrammer)',\n",
       " 'Carlos Alexandro Becker (caarlos0)',\n",
       " 'Taylor Otwell (taylorotwell)',\n",
       " 'Fred K. Schott (FredKSchott)',\n",
       " 'Igor Randjelovic (rigor789)',\n",
       " 'Tim Gross (tgross)',\n",
       " 'Fons van der Plas (fonsp)',\n",
       " 'Rico Huijbers (rix0rrr)',\n",
       " 'Zoltan Kochan (zkochan)',\n",
       " 'Benoit Chesneau (benoitc)',\n",
       " 'Kazuho Oku (kazuho)',\n",
       " 'Matt Perry (InventingWithMonster)',\n",
       " 'Jake Archibald (jakearchibald)',\n",
       " 'Tom Moor (tommoor)',\n",
       " 'Daichi Furiya (wasabeef)']"
      ]
     },
     "execution_count": 135,
     "metadata": {},
     "output_type": "execute_result"
    }
   ],
   "source": [
    "#your code\n",
    "\n",
    "tag = soup.find_all('h1', {'class': 'h3 lh-condensed'})\n",
    "\n",
    "username = []\n",
    "for i in tag:\n",
    "    a = i.find('a').attrs['href'][1:]\n",
    "    b = i.text.split(\"\\n\")[2].strip()\n",
    "    username.append(f\"{b} ({a})\")\n",
    "    \n",
    "username"
   ]
  },
  {
   "cell_type": "markdown",
   "metadata": {},
   "source": [
    "#### Display the trending Python repositories in GitHub\n",
    "\n",
    "The steps to solve this problem is similar to the previous one except that you need to find out the repository names instead of developer names."
   ]
  },
  {
   "cell_type": "code",
   "execution_count": null,
   "metadata": {},
   "outputs": [],
   "source": [
    "# This is the url you will scrape in this exercise\n",
    "url = 'https://github.com/trending/python?since=daily'"
   ]
  },
  {
   "cell_type": "code",
   "execution_count": 152,
   "metadata": {},
   "outputs": [],
   "source": [
    "#your code\n",
    "response = requests.get(url)\n",
    "\n",
    "soup = BeautifulSoup(response.text, \"html.parser\")\n",
    "#soup"
   ]
  },
  {
   "cell_type": "code",
   "execution_count": 153,
   "metadata": {},
   "outputs": [
    {
     "data": {
      "text/plain": [
       "['can-it-be-done-in-react-native',\n",
       " 'bert-as-service',\n",
       " 'libtorrent',\n",
       " 'home-assistant-config',\n",
       " 'TemplateUI',\n",
       " 'assh',\n",
       " 'skunk',\n",
       " 'PeerTube',\n",
       " ' ',\n",
       " 'range-v3',\n",
       " 'diagrams',\n",
       " 'env',\n",
       " 'livewire',\n",
       " 'the-node-way',\n",
       " 'vue-scrollto',\n",
       " ' ',\n",
       " 'Pluto.jl',\n",
       " 'sailor',\n",
       " 'packages',\n",
       " 'gunicorn',\n",
       " 'picojson',\n",
       " 'hey-listen',\n",
       " 'idb',\n",
       " 'react-emoji-render',\n",
       " 'awesome-android-ui']"
      ]
     },
     "execution_count": 153,
     "metadata": {},
     "output_type": "execute_result"
    }
   ],
   "source": [
    "tag1 = soup.find_all('h1', {'class': 'h4 lh-condensed'})\n",
    "\n",
    "repos = []\n",
    "for i in tag1:\n",
    "    repo = i.text.split(\"\\n\")[3].strip()\n",
    "    repos.append(repo)\n",
    "\n",
    "# HAY 2 QUE NO TIENEN EL REPO, LOS RELLENO CON ESPACIO EN BLANCO PARA QUE QUEDA INDICADO\n",
    "repos = repos[0:8] + [\" \"] + repos[8:14] + [\" \"] + repos[14:]\n",
    "repos"
   ]
  },
  {
   "cell_type": "markdown",
   "metadata": {},
   "source": [
    "#### Display all the image links from Walt Disney wikipedia page"
   ]
  },
  {
   "cell_type": "code",
   "execution_count": 166,
   "metadata": {},
   "outputs": [],
   "source": [
    "# This is the url you will scrape in this exercise\n",
    "url = 'https://en.wikipedia.org/wiki/Walt_Disney'"
   ]
  },
  {
   "cell_type": "code",
   "execution_count": 167,
   "metadata": {},
   "outputs": [],
   "source": [
    "#your code\n",
    "response = requests.get(url)\n",
    "\n",
    "soup = BeautifulSoup(response.text, \"html.parser\")\n",
    "#soup"
   ]
  },
  {
   "cell_type": "code",
   "execution_count": 168,
   "metadata": {},
   "outputs": [],
   "source": [
    "tag2 = soup.find_all('a', {'class': 'image'})\n",
    "#tag2"
   ]
  },
  {
   "cell_type": "code",
   "execution_count": 169,
   "metadata": {},
   "outputs": [
    {
     "data": {
      "text/plain": [
       "['wiki/File:Walt_Disney_1946.JPG',\n",
       " 'wiki/File:Walt_Disney_1942_signature.svg',\n",
       " 'wiki/File:Walt_Disney_envelope_ca._1921.jpg',\n",
       " 'wiki/File:Trolley_Troubles_poster.jpg',\n",
       " 'wiki/File:Walt_Disney_and_his_cartoon_creation_%22Mickey_Mouse%22_-_National_Board_of_Review_Magazine.jpg',\n",
       " 'wiki/File:Steamboat-willie.jpg',\n",
       " 'wiki/File:Walt_Disney_1935.jpg',\n",
       " 'wiki/File:Walt_Disney_Snow_white_1937_trailer_screenshot_(13).jpg',\n",
       " 'wiki/File:Disney_drawing_goofy.jpg',\n",
       " 'wiki/File:DisneySchiphol1951.jpg',\n",
       " 'wiki/File:WaltDisneyplansDisneylandDec1954.jpg',\n",
       " 'wiki/File:Walt_disney_portrait_right.jpg',\n",
       " 'wiki/File:Walt_Disney_Grave.JPG',\n",
       " 'wiki/File:Roy_O._Disney_with_Company_at_Press_Conference.jpg',\n",
       " 'wiki/File:Disney_Display_Case.JPG',\n",
       " 'wiki/File:Disney1968.jpg',\n",
       " 'wiki/File:The_Walt_Disney_Company_Logo.svg',\n",
       " 'wiki/File:Animation_disc.svg',\n",
       " 'wiki/File:P_vip.svg',\n",
       " 'wiki/File:Magic_Kingdom_castle.jpg',\n",
       " 'wiki/File:Video-x-generic.svg',\n",
       " 'wiki/File:Flag_of_Los_Angeles_County,_California.svg',\n",
       " 'wiki/File:Blank_television_set.svg',\n",
       " 'wiki/File:Flag_of_the_United_States.svg']"
      ]
     },
     "execution_count": 169,
     "metadata": {},
     "output_type": "execute_result"
    }
   ],
   "source": [
    "imagenes = []\n",
    "for i in tag2:\n",
    "    a = i.attrs['href'][1:]\n",
    "    imagenes.append(a)\n",
    "\n",
    "imagenes"
   ]
  },
  {
   "cell_type": "markdown",
   "metadata": {},
   "source": [
    "#### Retrieve an arbitary Wikipedia page of \"Python\" and create a list of links on that page"
   ]
  },
  {
   "cell_type": "code",
   "execution_count": 170,
   "metadata": {},
   "outputs": [],
   "source": [
    "# This is the url you will scrape in this exercise\n",
    "url ='https://en.wikipedia.org/wiki/Python' "
   ]
  },
  {
   "cell_type": "code",
   "execution_count": 172,
   "metadata": {},
   "outputs": [],
   "source": [
    "#your code\n",
    "\n",
    "response = requests.get(url)\n",
    "\n",
    "soup = BeautifulSoup(response.text, \"html.parser\")\n",
    "#soup\n",
    "\n",
    "# NO ENTIENDO QUE PIDE EL EJERCICIO, DEBERÍA SER UN POCO MÁS ESPECÍFICO"
   ]
  },
  {
   "cell_type": "markdown",
   "metadata": {},
   "source": [
    "#### Number of Titles that have changed in the United States Code since its last release point "
   ]
  },
  {
   "cell_type": "code",
   "execution_count": 188,
   "metadata": {},
   "outputs": [],
   "source": [
    "# This is the url you will scrape in this exercise\n",
    "url = 'http://uscode.house.gov/download/download.shtml'"
   ]
  },
  {
   "cell_type": "code",
   "execution_count": 189,
   "metadata": {},
   "outputs": [],
   "source": [
    "#your code\n",
    "response = requests.get(url)\n",
    "\n",
    "soup = BeautifulSoup(response.text, \"html.parser\")\n",
    "#soup"
   ]
  },
  {
   "cell_type": "code",
   "execution_count": 190,
   "metadata": {},
   "outputs": [
    {
     "name": "stdout",
     "output_type": "stream",
     "text": [
      "\n",
      "\n",
      "          Title 34 - Crime Control and Law Enforcement\n",
      "\n",
      "        \n",
      "\n",
      "\n",
      "          Title 42 - The Public Health and Welfare\n",
      "\n",
      "        \n",
      "\n",
      "\n",
      "          Title 50 - War and National Defense\n",
      "\n",
      "        \n"
     ]
    }
   ],
   "source": [
    "tag4 = soup.find_all('div', {'class': 'usctitlechanged'})\n",
    "for i in tag4:\n",
    "    print(i.text)"
   ]
  },
  {
   "cell_type": "markdown",
   "metadata": {},
   "source": [
    "#### A Python list with the top ten FBI's Most Wanted names "
   ]
  },
  {
   "cell_type": "code",
   "execution_count": 206,
   "metadata": {},
   "outputs": [],
   "source": [
    "# This is the url you will scrape in this exercise\n",
    "url = 'https://www.fbi.gov/wanted/topten'"
   ]
  },
  {
   "cell_type": "code",
   "execution_count": 207,
   "metadata": {},
   "outputs": [],
   "source": [
    "#your code \n",
    "response = requests.get(url)\n",
    "\n",
    "soup = BeautifulSoup(response.text, \"html.parser\")\n",
    "#soup"
   ]
  },
  {
   "cell_type": "code",
   "execution_count": 208,
   "metadata": {},
   "outputs": [
    {
     "data": {
      "text/plain": [
       "['ARNOLDO JIMENEZ',\n",
       " 'JASON DEREK BROWN',\n",
       " 'YASER ABDEL SAID',\n",
       " 'ALEXIS FLORES',\n",
       " 'EUGENE PALMER',\n",
       " 'RAFAEL CARO-QUINTERO',\n",
       " 'ROBERT WILLIAM FISHER',\n",
       " 'BHADRESHKUMAR CHETANBHAI PATEL',\n",
       " 'ALEJANDRO ROSALES CASTILLO',\n",
       " 'SANTIAGO VILLALBA MEDEROS']"
      ]
     },
     "execution_count": 208,
     "metadata": {},
     "output_type": "execute_result"
    }
   ],
   "source": [
    "tag5 = soup.find_all('h3', {'class' : 'title'})\n",
    "\n",
    "wanted = []\n",
    "for i in tag5:\n",
    "    wanted.append(i.text.split(\"\\n\")[1])\n",
    "    \n",
    "wanted"
   ]
  },
  {
   "cell_type": "markdown",
   "metadata": {},
   "source": [
    "####  20 latest earthquakes info (date, time, latitude, longitude and region name) by the EMSC as a pandas dataframe"
   ]
  },
  {
   "cell_type": "code",
   "execution_count": 310,
   "metadata": {},
   "outputs": [],
   "source": [
    "# This is the url you will scrape in this exercise\n",
    "url = 'https://www.emsc-csem.org/Earthquake/'"
   ]
  },
  {
   "cell_type": "code",
   "execution_count": 311,
   "metadata": {},
   "outputs": [],
   "source": [
    "#your code\n",
    "response = requests.get(url)\n",
    "\n",
    "soup = BeautifulSoup(response.text, \"html.parser\")\n",
    "#soup"
   ]
  },
  {
   "cell_type": "code",
   "execution_count": 317,
   "metadata": {},
   "outputs": [],
   "source": [
    "tag6 = soup.find_all('td', {'class': 'tabev6'})"
   ]
  },
  {
   "cell_type": "code",
   "execution_count": 318,
   "metadata": {},
   "outputs": [],
   "source": [
    "tag7 = [i.text[:-1] for i in (soup.find_all('td', {'class': 'tabev1'})[0:40])]\n",
    "lati = tag7[0::2]\n",
    "long = tag7[1::2]\n",
    "\n",
    "tag8 = [i.text[0] for i in (soup.find_all('td', {'class': 'tabev2'})[0:60])]\n",
    "lat = tag8[0::3]\n",
    "lon = tag8[1::3]"
   ]
  },
  {
   "cell_type": "code",
   "execution_count": 319,
   "metadata": {},
   "outputs": [],
   "source": [
    "tag9 = soup.find_all('td', {'class': 'tb_region'})"
   ]
  },
  {
   "cell_type": "code",
   "execution_count": 326,
   "metadata": {},
   "outputs": [
    {
     "data": {
      "text/html": [
       "<div>\n",
       "<style scoped>\n",
       "    .dataframe tbody tr th:only-of-type {\n",
       "        vertical-align: middle;\n",
       "    }\n",
       "\n",
       "    .dataframe tbody tr th {\n",
       "        vertical-align: top;\n",
       "    }\n",
       "\n",
       "    .dataframe thead th {\n",
       "        text-align: right;\n",
       "    }\n",
       "</style>\n",
       "<table border=\"1\" class=\"dataframe\">\n",
       "  <thead>\n",
       "    <tr style=\"text-align: right;\">\n",
       "      <th></th>\n",
       "      <th>date</th>\n",
       "      <th>time</th>\n",
       "      <th>latitude</th>\n",
       "      <th>longitude</th>\n",
       "      <th>region</th>\n",
       "    </tr>\n",
       "  </thead>\n",
       "  <tbody>\n",
       "    <tr>\n",
       "      <th>0</th>\n",
       "      <td>2020-09-09</td>\n",
       "      <td>19:46:57</td>\n",
       "      <td>40.71 N</td>\n",
       "      <td>27.43 E</td>\n",
       "      <td>WESTERN TURKEY</td>\n",
       "    </tr>\n",
       "    <tr>\n",
       "      <th>1</th>\n",
       "      <td>2020-09-09</td>\n",
       "      <td>19:41:56</td>\n",
       "      <td>21.42 S</td>\n",
       "      <td>69.02 W</td>\n",
       "      <td>ANTOFAGASTA, CHILE</td>\n",
       "    </tr>\n",
       "    <tr>\n",
       "      <th>2</th>\n",
       "      <td>2020-09-09</td>\n",
       "      <td>19:32:32</td>\n",
       "      <td>39.33 N</td>\n",
       "      <td>41.04 E</td>\n",
       "      <td>EASTERN TURKEY</td>\n",
       "    </tr>\n",
       "    <tr>\n",
       "      <th>3</th>\n",
       "      <td>2020-09-09</td>\n",
       "      <td>19:23:07</td>\n",
       "      <td>39.34 N</td>\n",
       "      <td>41.00 E</td>\n",
       "      <td>EASTERN TURKEY</td>\n",
       "    </tr>\n",
       "    <tr>\n",
       "      <th>4</th>\n",
       "      <td>2020-09-09</td>\n",
       "      <td>19:13:05</td>\n",
       "      <td>19.23 N</td>\n",
       "      <td>155.42 W</td>\n",
       "      <td>ISLAND OF HAWAII, HAWAII</td>\n",
       "    </tr>\n",
       "    <tr>\n",
       "      <th>5</th>\n",
       "      <td>2020-09-09</td>\n",
       "      <td>19:12:26</td>\n",
       "      <td>50.09 N</td>\n",
       "      <td>18.43 E</td>\n",
       "      <td>POLAND</td>\n",
       "    </tr>\n",
       "    <tr>\n",
       "      <th>6</th>\n",
       "      <td>2020-09-09</td>\n",
       "      <td>19:04:03</td>\n",
       "      <td>4.02 N</td>\n",
       "      <td>126.76 E</td>\n",
       "      <td>KEPULAUAN TALAUD, INDONESIA</td>\n",
       "    </tr>\n",
       "    <tr>\n",
       "      <th>7</th>\n",
       "      <td>2020-09-09</td>\n",
       "      <td>18:58:43</td>\n",
       "      <td>40.50 N</td>\n",
       "      <td>20.07 E</td>\n",
       "      <td>ALBANIA</td>\n",
       "    </tr>\n",
       "    <tr>\n",
       "      <th>8</th>\n",
       "      <td>2020-09-09</td>\n",
       "      <td>18:46:54</td>\n",
       "      <td>3.74 N</td>\n",
       "      <td>127.21 E</td>\n",
       "      <td>KEPULAUAN TALAUD, INDONESIA</td>\n",
       "    </tr>\n",
       "    <tr>\n",
       "      <th>9</th>\n",
       "      <td>2020-09-09</td>\n",
       "      <td>18:44:16</td>\n",
       "      <td>2.65 S</td>\n",
       "      <td>101.09 E</td>\n",
       "      <td>SOUTHERN SUMATRA, INDONESIA</td>\n",
       "    </tr>\n",
       "    <tr>\n",
       "      <th>10</th>\n",
       "      <td>2020-09-09</td>\n",
       "      <td>18:31:01</td>\n",
       "      <td>0.11 N</td>\n",
       "      <td>123.61 E</td>\n",
       "      <td>MINAHASA, SULAWESI, INDONESIA</td>\n",
       "    </tr>\n",
       "    <tr>\n",
       "      <th>11</th>\n",
       "      <td>2020-09-09</td>\n",
       "      <td>18:23:45</td>\n",
       "      <td>35.94 N</td>\n",
       "      <td>115.08 W</td>\n",
       "      <td>NEVADA</td>\n",
       "    </tr>\n",
       "    <tr>\n",
       "      <th>12</th>\n",
       "      <td>2020-09-09</td>\n",
       "      <td>18:20:01</td>\n",
       "      <td>28.60 S</td>\n",
       "      <td>68.41 W</td>\n",
       "      <td>LA RIOJA, ARGENTINA</td>\n",
       "    </tr>\n",
       "    <tr>\n",
       "      <th>13</th>\n",
       "      <td>2020-09-09</td>\n",
       "      <td>18:12:36</td>\n",
       "      <td>16.60 N</td>\n",
       "      <td>93.75 W</td>\n",
       "      <td>CHIAPAS, MEXICO</td>\n",
       "    </tr>\n",
       "    <tr>\n",
       "      <th>14</th>\n",
       "      <td>2020-09-09</td>\n",
       "      <td>18:09:50</td>\n",
       "      <td>19.24 N</td>\n",
       "      <td>155.41 W</td>\n",
       "      <td>ISLAND OF HAWAII, HAWAII</td>\n",
       "    </tr>\n",
       "    <tr>\n",
       "      <th>15</th>\n",
       "      <td>2020-09-09</td>\n",
       "      <td>18:01:26</td>\n",
       "      <td>46.80 N</td>\n",
       "      <td>6.99 E</td>\n",
       "      <td>SWITZERLAND</td>\n",
       "    </tr>\n",
       "    <tr>\n",
       "      <th>16</th>\n",
       "      <td>2020-09-09</td>\n",
       "      <td>17:34:33</td>\n",
       "      <td>32.66 S</td>\n",
       "      <td>179.51 E</td>\n",
       "      <td>SOUTH OF KERMADEC ISLANDS</td>\n",
       "    </tr>\n",
       "    <tr>\n",
       "      <th>17</th>\n",
       "      <td>2020-09-09</td>\n",
       "      <td>17:09:42</td>\n",
       "      <td>47.46 N</td>\n",
       "      <td>9.45 E</td>\n",
       "      <td>SWITZERLAND</td>\n",
       "    </tr>\n",
       "    <tr>\n",
       "      <th>18</th>\n",
       "      <td>2020-09-09</td>\n",
       "      <td>16:49:26</td>\n",
       "      <td>38.18 N</td>\n",
       "      <td>117.88 W</td>\n",
       "      <td>NEVADA</td>\n",
       "    </tr>\n",
       "    <tr>\n",
       "      <th>19</th>\n",
       "      <td>2020-09-09</td>\n",
       "      <td>16:46:18</td>\n",
       "      <td>35.98 N</td>\n",
       "      <td>97.20 W</td>\n",
       "      <td>OKLAHOMA</td>\n",
       "    </tr>\n",
       "  </tbody>\n",
       "</table>\n",
       "</div>"
      ],
      "text/plain": [
       "          date      time latitude longitude                         region\n",
       "0   2020-09-09  19:46:57  40.71 N   27.43 E                 WESTERN TURKEY\n",
       "1   2020-09-09  19:41:56  21.42 S   69.02 W             ANTOFAGASTA, CHILE\n",
       "2   2020-09-09  19:32:32  39.33 N   41.04 E                 EASTERN TURKEY\n",
       "3   2020-09-09  19:23:07  39.34 N   41.00 E                 EASTERN TURKEY\n",
       "4   2020-09-09  19:13:05  19.23 N  155.42 W       ISLAND OF HAWAII, HAWAII\n",
       "5   2020-09-09  19:12:26  50.09 N   18.43 E                         POLAND\n",
       "6   2020-09-09  19:04:03   4.02 N  126.76 E    KEPULAUAN TALAUD, INDONESIA\n",
       "7   2020-09-09  18:58:43  40.50 N   20.07 E                        ALBANIA\n",
       "8   2020-09-09  18:46:54   3.74 N  127.21 E    KEPULAUAN TALAUD, INDONESIA\n",
       "9   2020-09-09  18:44:16   2.65 S  101.09 E    SOUTHERN SUMATRA, INDONESIA\n",
       "10  2020-09-09  18:31:01   0.11 N  123.61 E  MINAHASA, SULAWESI, INDONESIA\n",
       "11  2020-09-09  18:23:45  35.94 N  115.08 W                         NEVADA\n",
       "12  2020-09-09  18:20:01  28.60 S   68.41 W            LA RIOJA, ARGENTINA\n",
       "13  2020-09-09  18:12:36  16.60 N   93.75 W                CHIAPAS, MEXICO\n",
       "14  2020-09-09  18:09:50  19.24 N  155.41 W       ISLAND OF HAWAII, HAWAII\n",
       "15  2020-09-09  18:01:26  46.80 N    6.99 E                    SWITZERLAND\n",
       "16  2020-09-09  17:34:33  32.66 S  179.51 E      SOUTH OF KERMADEC ISLANDS\n",
       "17  2020-09-09  17:09:42  47.46 N    9.45 E                    SWITZERLAND\n",
       "18  2020-09-09  16:49:26  38.18 N  117.88 W                         NEVADA\n",
       "19  2020-09-09  16:46:18  35.98 N   97.20 W                       OKLAHOMA"
      ]
     },
     "execution_count": 326,
     "metadata": {},
     "output_type": "execute_result"
    }
   ],
   "source": [
    "latitud = [\" \".join(i) for i in list(zip(lati,lat))]\n",
    "longitud = [\" \".join(i) for i in list(zip(long,lon))]\n",
    "\n",
    "hora = []\n",
    "dia = []\n",
    "region = []\n",
    "\n",
    "for i in range(len(tag6[0:20])):\n",
    "    hora.append(tag6[i].text[10:20])\n",
    "    dia.append(tag6[i].text[23:31])\n",
    "    region.append(tag9[i].text[1:])\n",
    "    \n",
    "\n",
    "df = pd.DataFrame({'date': hora, 'time': dia, 'latitude':latitud, 'longitude': longitud, 'region': region})\n",
    "df"
   ]
  },
  {
   "cell_type": "markdown",
   "metadata": {},
   "source": [
    "#### Display the date, days, title, city, country of next 25 hackathon events as a Pandas dataframe table"
   ]
  },
  {
   "cell_type": "code",
   "execution_count": null,
   "metadata": {},
   "outputs": [],
   "source": [
    "# This is the url you will scrape in this exercise\n",
    "url ='https://hackevents.co/hackathons'"
   ]
  },
  {
   "cell_type": "code",
   "execution_count": null,
   "metadata": {},
   "outputs": [],
   "source": [
    "#your code"
   ]
  },
  {
   "cell_type": "markdown",
   "metadata": {},
   "source": [
    "#### Count number of tweets by a given Twitter account."
   ]
  },
  {
   "cell_type": "markdown",
   "metadata": {},
   "source": [
    "You will need to include a ***try/except block*** for account names not found. \n",
    "<br>***Hint:*** the program should count the number of tweets for any provided account"
   ]
  },
  {
   "cell_type": "code",
   "execution_count": null,
   "metadata": {},
   "outputs": [],
   "source": [
    "# This is the url you will scrape in this exercise \n",
    "# You will need to add the account credentials to this url\n",
    "url = 'https://twitter.com/'"
   ]
  },
  {
   "cell_type": "code",
   "execution_count": null,
   "metadata": {},
   "outputs": [],
   "source": [
    "#your code"
   ]
  },
  {
   "cell_type": "markdown",
   "metadata": {},
   "source": [
    "#### Number of followers of a given twitter account"
   ]
  },
  {
   "cell_type": "markdown",
   "metadata": {},
   "source": [
    "You will need to include a ***try/except block*** in case account/s name not found. \n",
    "<br>***Hint:*** the program should count the followers for any provided account"
   ]
  },
  {
   "cell_type": "code",
   "execution_count": null,
   "metadata": {},
   "outputs": [],
   "source": [
    "# This is the url you will scrape in this exercise \n",
    "# You will need to add the account credentials to this url\n",
    "url = 'https://twitter.com/'"
   ]
  },
  {
   "cell_type": "code",
   "execution_count": null,
   "metadata": {},
   "outputs": [],
   "source": [
    "#your code"
   ]
  },
  {
   "cell_type": "markdown",
   "metadata": {},
   "source": [
    "#### List all language names and number of related articles in the order they appear in wikipedia.org"
   ]
  },
  {
   "cell_type": "code",
   "execution_count": null,
   "metadata": {},
   "outputs": [],
   "source": [
    "# This is the url you will scrape in this exercise\n",
    "url = 'https://www.wikipedia.org/'"
   ]
  },
  {
   "cell_type": "code",
   "execution_count": null,
   "metadata": {},
   "outputs": [],
   "source": [
    "#your code"
   ]
  },
  {
   "cell_type": "markdown",
   "metadata": {},
   "source": [
    "#### A list with the different kind of datasets available in data.gov.uk "
   ]
  },
  {
   "cell_type": "code",
   "execution_count": null,
   "metadata": {},
   "outputs": [],
   "source": [
    "# This is the url you will scrape in this exercise\n",
    "url = 'https://data.gov.uk/'"
   ]
  },
  {
   "cell_type": "code",
   "execution_count": null,
   "metadata": {},
   "outputs": [],
   "source": [
    "#your code "
   ]
  },
  {
   "cell_type": "markdown",
   "metadata": {},
   "source": [
    "#### Top 10 languages by number of native speakers stored in a Pandas Dataframe"
   ]
  },
  {
   "cell_type": "code",
   "execution_count": null,
   "metadata": {},
   "outputs": [],
   "source": [
    "# This is the url you will scrape in this exercise\n",
    "url = 'https://en.wikipedia.org/wiki/List_of_languages_by_number_of_native_speakers'"
   ]
  },
  {
   "cell_type": "code",
   "execution_count": null,
   "metadata": {},
   "outputs": [],
   "source": [
    "#your code"
   ]
  },
  {
   "cell_type": "markdown",
   "metadata": {},
   "source": [
    "### BONUS QUESTIONS"
   ]
  },
  {
   "cell_type": "markdown",
   "metadata": {},
   "source": [
    "#### Scrape a certain number of tweets of a given Twitter account."
   ]
  },
  {
   "cell_type": "code",
   "execution_count": null,
   "metadata": {},
   "outputs": [],
   "source": [
    "# This is the url you will scrape in this exercise \n",
    "# You will need to add the account credentials to this url\n",
    "url = 'https://twitter.com/'"
   ]
  },
  {
   "cell_type": "code",
   "execution_count": null,
   "metadata": {},
   "outputs": [],
   "source": [
    "# your code"
   ]
  },
  {
   "cell_type": "markdown",
   "metadata": {},
   "source": [
    "#### IMDB's Top 250 data (movie name, Initial release, director name and stars) as a pandas dataframe"
   ]
  },
  {
   "cell_type": "code",
   "execution_count": null,
   "metadata": {},
   "outputs": [],
   "source": [
    "# This is the url you will scrape in this exercise \n",
    "url = 'https://www.imdb.com/chart/top'"
   ]
  },
  {
   "cell_type": "code",
   "execution_count": null,
   "metadata": {},
   "outputs": [],
   "source": [
    "# your code"
   ]
  },
  {
   "cell_type": "markdown",
   "metadata": {},
   "source": [
    "#### Movie name, year and a brief summary of the top 10 random movies (IMDB) as a pandas dataframe."
   ]
  },
  {
   "cell_type": "code",
   "execution_count": null,
   "metadata": {},
   "outputs": [],
   "source": [
    "#This is the url you will scrape in this exercise\n",
    "url = 'http://www.imdb.com/chart/top'"
   ]
  },
  {
   "cell_type": "code",
   "execution_count": null,
   "metadata": {},
   "outputs": [],
   "source": [
    "#your code"
   ]
  },
  {
   "cell_type": "markdown",
   "metadata": {},
   "source": [
    "#### Find the live weather report (temperature, wind speed, description and weather) of a given city."
   ]
  },
  {
   "cell_type": "code",
   "execution_count": null,
   "metadata": {},
   "outputs": [],
   "source": [
    "#https://openweathermap.org/current\n",
    "city = city=input('Enter the city:')\n",
    "url = 'http://api.openweathermap.org/data/2.5/weather?'+'q='+city+'&APPID=b35975e18dc93725acb092f7272cc6b8&units=metric'"
   ]
  },
  {
   "cell_type": "code",
   "execution_count": null,
   "metadata": {},
   "outputs": [],
   "source": [
    "# your code"
   ]
  },
  {
   "cell_type": "markdown",
   "metadata": {},
   "source": [
    "#### Book name,price and stock availability as a pandas dataframe."
   ]
  },
  {
   "cell_type": "code",
   "execution_count": null,
   "metadata": {},
   "outputs": [],
   "source": [
    "# This is the url you will scrape in this exercise. \n",
    "# It is a fictional bookstore created to be scraped. \n",
    "url = 'http://books.toscrape.com/'"
   ]
  },
  {
   "cell_type": "code",
   "execution_count": null,
   "metadata": {},
   "outputs": [],
   "source": [
    "#your code"
   ]
  }
 ],
 "metadata": {
  "kernelspec": {
   "display_name": "Python 3",
   "language": "python",
   "name": "python3"
  },
  "language_info": {
   "codemirror_mode": {
    "name": "ipython",
    "version": 3
   },
   "file_extension": ".py",
   "mimetype": "text/x-python",
   "name": "python",
   "nbconvert_exporter": "python",
   "pygments_lexer": "ipython3",
   "version": "3.7.6"
  }
 },
 "nbformat": 4,
 "nbformat_minor": 2
}
